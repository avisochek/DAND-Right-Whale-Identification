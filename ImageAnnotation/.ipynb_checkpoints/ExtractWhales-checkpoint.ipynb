{
 "cells": [
  {
   "cell_type": "code",
   "execution_count": 4,
   "metadata": {
    "collapsed": false
   },
   "outputs": [],
   "source": [
    "## in this notebook we extract whale subimages from the main images using the master_annotations.json file in this folder\n",
    "\n",
    "## we want to return subwimages that are exactly square and in grayscale\n",
    "\n",
    "## it should be run inside this folder\n",
    "\n",
    "## You can use this script wh"
   ]
  },
  {
   "cell_type": "code",
   "execution_count": 1,
   "metadata": {
    "collapsed": false
   },
   "outputs": [
    {
     "ename": "ImportError",
     "evalue": "No module named cv2",
     "output_type": "error",
     "traceback": [
      "\u001b[1;31m---------------------------------------------------------------------------\u001b[0m",
      "\u001b[1;31mImportError\u001b[0m                               Traceback (most recent call last)",
      "\u001b[1;32m<ipython-input-1-47451e69a5a2>\u001b[0m in \u001b[0;36m<module>\u001b[1;34m()\u001b[0m\n\u001b[0;32m      1\u001b[0m \u001b[1;31m##import libraries\u001b[0m\u001b[1;33m\u001b[0m\u001b[1;33m\u001b[0m\u001b[0m\n\u001b[0;32m      2\u001b[0m \u001b[1;32mimport\u001b[0m \u001b[0mos\u001b[0m\u001b[1;33m\u001b[0m\u001b[0m\n\u001b[1;32m----> 3\u001b[1;33m \u001b[1;32mimport\u001b[0m \u001b[0mcv2\u001b[0m\u001b[1;33m\u001b[0m\u001b[0m\n\u001b[0m\u001b[0;32m      4\u001b[0m \u001b[1;32mimport\u001b[0m \u001b[0mjson\u001b[0m\u001b[1;33m\u001b[0m\u001b[0m\n\u001b[0;32m      5\u001b[0m \u001b[1;32mimport\u001b[0m \u001b[0mpandas\u001b[0m \u001b[1;32mas\u001b[0m \u001b[0mpd\u001b[0m\u001b[1;33m\u001b[0m\u001b[0m\n",
      "\u001b[1;31mImportError\u001b[0m: No module named cv2"
     ]
    }
   ],
   "source": [
    "##import libraries\n",
    "import os\n",
    "import cv2\n",
    "import json\n",
    "import pandas as pd\n",
    "import numpy as np"
   ]
  },
  {
   "cell_type": "markdown",
   "metadata": {},
   "source": [
    "If you have sorted the images by whale using [this script](https://www.kaggle.com/c/noaa-right-whale-recognition/forums/t/16275/python-script-to-sort-images/91274#post91274) leave the `IMAGES_SORTED` variable as True. If the files are all im the `imgs` folder as they would be after unzipping, set this to false."
   ]
  },
  {
   "cell_type": "code",
   "execution_count": 1,
   "metadata": {
    "collapsed": false
   },
   "outputs": [],
   "source": [
    "IMAGES_SORTED = True"
   ]
  },
  {
   "cell_type": "code",
   "execution_count": 5,
   "metadata": {
    "collapsed": false
   },
   "outputs": [],
   "source": [
    "## load input file\n",
    "with open('master_annotations.json', 'rb') as infile:\n",
    "    master_annotations = json.load(infile)\n",
    "\n",
    "# if the images have been sorted, we need the training data file to find them\n",
    "train_data = None\n",
    "if IMAGES_SORTED:\n",
    "    train_data = pd.read_csv('../Data/train.csv')\n",
    "    "
   ]
  },
  {
   "cell_type": "code",
   "execution_count": 6,
   "metadata": {
    "collapsed": false
   },
   "outputs": [],
   "source": [
    "## for each set of annotations we want to:\n",
    "# - make it a square so that height = width\n",
    "# - first we find out which is lower height or width\n",
    "# - we want to increase the lower one to equal the greater one, subject to the constraint that we can't go off the edge of the image\n",
    "# - in the event that we might go off the edge we increase the height or width as much as possible, and then adjust x or y accordingly\n",
    "\n",
    "## given an entry, return the subimage\n",
    "\n",
    "def get_subimage(entry):\n",
    "    target_file = entry['filename']\n",
    "    prefix = \"../../imgs/\"\n",
    "    if IMAGES_SORTED:\n",
    "        prefix += train_data.whaleID[train_data.Image == target_file].iloc[0] + '/'\n",
    "    print prefix + target_file\n",
    "    full_image = cv2.imread(prefix + target_file, 0)\n",
    "    if full_image == None:\n",
    "        print 'Could not find ' + target_file\n",
    "        return False\n",
    "    full_height, full_width = full_image.shape\n",
    "    \n",
    "    for annotation in entry['annotations']:\n",
    "        if annotation['class'] == 'Head':\n",
    "            \n",
    "            sub_height, sub_width, sub_x, sub_y = int(annotation['height']), int(annotation['width']), int(annotation['x']), int(annotation['y'])\n",
    "        else:\n",
    "            continue\n",
    "        if sub_height < sub_width:\n",
    "            #fix sub height\n",
    "            dif = sub_width - sub_height\n",
    "            if sub_y + dif < full_height:\n",
    "                sub_height = sub_width\n",
    "            else: \n",
    "                height_adj = full_height - sub_y - sub_height\n",
    "                y_adj = dif - height_adj\n",
    "                sub_height += height_adj\n",
    "                sub_y -= y_adj\n",
    "        elif sub_width < sub_height:\n",
    "            #fix sub width\n",
    "            dif = sub_height - sub_width\n",
    "            if sub_x + dif < full_width:\n",
    "                sub_width = sub_height\n",
    "            else:\n",
    "                width_adj = full_width - sub_x - sub_width\n",
    "                x_adj = dif - width\n",
    "                sub_width += width_adj\n",
    "                sub_x -= x_adj\n",
    "        #extract subimage with sub_height, . . .\n",
    "        \n",
    "        whale = full_image[ sub_y:sub_y + sub_height, sub_x:sub_x + sub_width]\n",
    "        \n",
    "        #make an outfolder\n",
    "        if not os.path.exists('../../sub_imgs'):\n",
    "            os.mkdir('../../sub_imgs')\n",
    "        sub_name = '../../sub_imgs/' + target_file.replace('.jpg', '') + '_sub.jpg'\n",
    "        cv2.imwrite(sub_name, whale)\n",
    "                \n",
    "            \n",
    "            \n",
    "                    \n",
    "        \n",
    "\n"
   ]
  },
  {
   "cell_type": "code",
   "execution_count": null,
   "metadata": {
    "collapsed": false
   },
   "outputs": [],
   "source": [
    "## this will loop through the master_annotations and use the function above to create subimages of whale heads\n",
    "## it will save them in a folder two levels up in a folder called sub_imgs\n",
    "\n",
    "for entry in master_annotations:\n",
    "    get_subimage(entry)"
   ]
  },
  {
   "cell_type": "code",
   "execution_count": null,
   "metadata": {
    "collapsed": false
   },
   "outputs": [],
   "source": []
  }
 ],
 "metadata": {
  "kernelspec": {
   "display_name": "Python 2",
   "language": "python",
   "name": "python2"
  },
  "language_info": {
   "codemirror_mode": {
    "name": "ipython",
    "version": 2
   },
   "file_extension": ".py",
   "mimetype": "text/x-python",
   "name": "python",
   "nbconvert_exporter": "python",
   "pygments_lexer": "ipython2",
   "version": "2.7.10"
  }
 },
 "nbformat": 4,
 "nbformat_minor": 0
}
