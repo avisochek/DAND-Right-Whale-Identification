{
 "cells": [
  {
   "cell_type": "code",
   "execution_count": 1,
   "metadata": {
    "collapsed": true
   },
   "outputs": [],
   "source": [
    "import numpy as np\n",
    "import cv2\n",
    "from PIL import Image, ImageDraw"
   ]
  },
  {
   "cell_type": "code",
   "execution_count": 14,
   "metadata": {
    "collapsed": false
   },
   "outputs": [],
   "source": [
    "# get your classifier\n",
    "whale_cascade = cv2.CascadeClassifier('cascade_1.xml')\n",
    "#load an image and apply the classifier to it\n",
    "\n",
    "img = cv2.imread('w_8488.jpg')\n",
    "#make a grayscale verion of it\n",
    "gray = cv2.cvtColor(img, cv2.COLOR_BGR2GRAY)\n"
   ]
  },
  {
   "cell_type": "code",
   "execution_count": 15,
   "metadata": {
    "collapsed": false
   },
   "outputs": [],
   "source": [
    "whales = whale_cascade.detectMultiScale(gray, 1.2, 7, 0, (280, 280))\n",
    "\n",
    "imagefile = 'w_8488.jpg'\n",
    "im = Image.open(imagefile)\n",
    "# draw the rectangles\n",
    "dr = ImageDraw.Draw(im)\n",
    "for (x,y,w,h) in whales:\n",
    "    #we want our box outlines to be wider than a single pixel, so we use this loop\n",
    "    outline_width = 4\n",
    "    for i in range(outline_width):\n",
    "        dr.rectangle(((x-i, y-i), (x+w+i, y+h+i)), outline = \"red\")\n",
    "\n",
    "# and/or you can save it\n",
    "im.save('outimage.jpg')"
   ]
  },
  {
   "cell_type": "code",
   "execution_count": null,
   "metadata": {
    "collapsed": true
   },
   "outputs": [],
   "source": []
  }
 ],
 "metadata": {
  "kernelspec": {
   "display_name": "Python 2",
   "language": "python",
   "name": "python2"
  },
  "language_info": {
   "codemirror_mode": {
    "name": "ipython",
    "version": 2
   },
   "file_extension": ".py",
   "mimetype": "text/x-python",
   "name": "python",
   "nbconvert_exporter": "python",
   "pygments_lexer": "ipython2",
   "version": "2.7.6"
  }
 },
 "nbformat": 4,
 "nbformat_minor": 0
}
