{
 "cells": [
  {
   "cell_type": "markdown",
   "metadata": {},
   "source": [
    "The purpose of the script here is to take the data of each of the OpenCV classifiers found in this folder and create a dataframe of the parameter settings for each of the classifiers.\n",
    "\n",
    "In the future, we will also want to add the results obtained from the classifiers to this dataframe.\n",
    "\n",
    "Also, although the classifier files contain information about the parameter settings used, they do not contain information about the specific images used to train them. Therefore, we also need to link these classifiers to the bg.txt (list of negatives used in training) and the info.data (list of positive annotations used in training). \n"
   ]
  },
  {
   "cell_type": "code",
   "execution_count": 1,
   "metadata": {
    "collapsed": false
   },
   "outputs": [],
   "source": [
    "import pandas as pd\n",
    "import xml.etree.ElementTree as ET\n",
    "import pprint\n",
    "import os"
   ]
  },
  {
   "cell_type": "code",
   "execution_count": 2,
   "metadata": {
    "collapsed": false
   },
   "outputs": [],
   "source": [
    "# this function will process a classifier.xml and return a dictionary with it's parameter settings\n",
    "def get_parameters(xmlfile):\n",
    "    tree = ET.parse(xmlfile)\n",
    "    root = tree.getroot()\n",
    "    parameters = {}\n",
    "    parameters['Classifier'] = xmlfile\n",
    "    for child in root:\n",
    "        for x in child:\n",
    "            if '   ' not in x.text:\n",
    "                parameters[x.tag] = x.text\n",
    "            for y in x:\n",
    "                if '   ' not in y.text:\n",
    "                    parameters[y.tag] = y.text\n",
    "    return parameters\n",
    "    \n",
    "    "
   ]
  },
  {
   "cell_type": "code",
   "execution_count": 3,
   "metadata": {
    "collapsed": false
   },
   "outputs": [],
   "source": [
    "# this function goes through all of the .xml files in this directory and makes a single data frame showing the paramters used\n",
    "# in training each of the classifiers.\n",
    "def make_parameter_df():\n",
    "    classifiers = [xmlfile for xmlfile in os.listdir(os.getcwd()) if '.xml' in xmlfile]\n",
    "    parameters = []\n",
    "    for xmlfile in classifiers:\n",
    "        parameters.append(get_parameters(xmlfile))\n",
    "    return pd.DataFrame(parameters)\n",
    "    \n",
    "    "
   ]
  },
  {
   "cell_type": "code",
   "execution_count": 4,
   "metadata": {
    "collapsed": false
   },
   "outputs": [],
   "source": [
    "parameters = make_parameter_df()"
   ]
  },
  {
   "cell_type": "code",
   "execution_count": 5,
   "metadata": {
    "collapsed": false
   },
   "outputs": [
    {
     "data": {
      "text/html": [
       "<div style=\"max-height:1000px;max-width:1500px;overflow:auto;\">\n",
       "<table border=\"1\" class=\"dataframe\">\n",
       "  <thead>\n",
       "    <tr style=\"text-align: right;\">\n",
       "      <th></th>\n",
       "      <th>Classifier</th>\n",
       "      <th>boostType</th>\n",
       "      <th>featSize</th>\n",
       "      <th>featureType</th>\n",
       "      <th>height</th>\n",
       "      <th>maxCatCount</th>\n",
       "      <th>maxDepth</th>\n",
       "      <th>maxFalseAlarm</th>\n",
       "      <th>maxWeakCount</th>\n",
       "      <th>minHitRate</th>\n",
       "      <th>mode</th>\n",
       "      <th>stageNum</th>\n",
       "      <th>stageType</th>\n",
       "      <th>weightTrimRate</th>\n",
       "      <th>width</th>\n",
       "    </tr>\n",
       "  </thead>\n",
       "  <tbody>\n",
       "    <tr>\n",
       "      <th>0</th>\n",
       "      <td>         cascade_1.xml</td>\n",
       "      <td> GAB</td>\n",
       "      <td> 1</td>\n",
       "      <td>  LBP</td>\n",
       "      <td> 40</td>\n",
       "      <td> 256</td>\n",
       "      <td> 1</td>\n",
       "      <td> 5.0000000000000000e-01</td>\n",
       "      <td> 100</td>\n",
       "      <td> 9.9900001287460327e-01</td>\n",
       "      <td> NaN</td>\n",
       "      <td> 12</td>\n",
       "      <td> BOOST</td>\n",
       "      <td> 9.4999999999999996e-01</td>\n",
       "      <td> 40</td>\n",
       "    </tr>\n",
       "    <tr>\n",
       "      <th>1</th>\n",
       "      <td>  whale_classifier.xml</td>\n",
       "      <td> GAB</td>\n",
       "      <td> 1</td>\n",
       "      <td> HAAR</td>\n",
       "      <td> 24</td>\n",
       "      <td>   0</td>\n",
       "      <td> 1</td>\n",
       "      <td> 5.0000000000000000e-01</td>\n",
       "      <td> 100</td>\n",
       "      <td> 9.9500000476837158e-01</td>\n",
       "      <td> ALL</td>\n",
       "      <td>  4</td>\n",
       "      <td> BOOST</td>\n",
       "      <td> 9.4999999999999996e-01</td>\n",
       "      <td> 24</td>\n",
       "    </tr>\n",
       "    <tr>\n",
       "      <th>2</th>\n",
       "      <td>         cascade_2.xml</td>\n",
       "      <td> GAB</td>\n",
       "      <td> 1</td>\n",
       "      <td>  LBP</td>\n",
       "      <td> 30</td>\n",
       "      <td> 256</td>\n",
       "      <td> 1</td>\n",
       "      <td> 5.0000000000000000e-01</td>\n",
       "      <td> 100</td>\n",
       "      <td> 9.9500000476837158e-01</td>\n",
       "      <td> NaN</td>\n",
       "      <td> 12</td>\n",
       "      <td> BOOST</td>\n",
       "      <td> 9.4999999999999996e-01</td>\n",
       "      <td> 30</td>\n",
       "    </tr>\n",
       "    <tr>\n",
       "      <th>3</th>\n",
       "      <td> whale_classifier2.xml</td>\n",
       "      <td> GAB</td>\n",
       "      <td> 1</td>\n",
       "      <td>  LBP</td>\n",
       "      <td> 24</td>\n",
       "      <td> 256</td>\n",
       "      <td> 1</td>\n",
       "      <td> 5.0000000000000000e-01</td>\n",
       "      <td> 100</td>\n",
       "      <td> 9.9500000476837158e-01</td>\n",
       "      <td> NaN</td>\n",
       "      <td> 20</td>\n",
       "      <td> BOOST</td>\n",
       "      <td> 9.4999999999999996e-01</td>\n",
       "      <td> 24</td>\n",
       "    </tr>\n",
       "  </tbody>\n",
       "</table>\n",
       "<p>4 rows × 15 columns</p>\n",
       "</div>"
      ],
      "text/plain": [
       "              Classifier boostType featSize featureType height maxCatCount  \\\n",
       "0          cascade_1.xml       GAB        1         LBP     40         256   \n",
       "1   whale_classifier.xml       GAB        1        HAAR     24           0   \n",
       "2          cascade_2.xml       GAB        1         LBP     30         256   \n",
       "3  whale_classifier2.xml       GAB        1         LBP     24         256   \n",
       "\n",
       "  maxDepth           maxFalseAlarm maxWeakCount              minHitRate mode  \\\n",
       "0        1  5.0000000000000000e-01          100  9.9900001287460327e-01  NaN   \n",
       "1        1  5.0000000000000000e-01          100  9.9500000476837158e-01  ALL   \n",
       "2        1  5.0000000000000000e-01          100  9.9500000476837158e-01  NaN   \n",
       "3        1  5.0000000000000000e-01          100  9.9500000476837158e-01  NaN   \n",
       "\n",
       "  stageNum stageType          weightTrimRate width  \n",
       "0       12     BOOST  9.4999999999999996e-01    40  \n",
       "1        4     BOOST  9.4999999999999996e-01    24  \n",
       "2       12     BOOST  9.4999999999999996e-01    30  \n",
       "3       20     BOOST  9.4999999999999996e-01    24  \n",
       "\n",
       "[4 rows x 15 columns]"
      ]
     },
     "execution_count": 5,
     "metadata": {},
     "output_type": "execute_result"
    }
   ],
   "source": [
    "parameters"
   ]
  },
  {
   "cell_type": "code",
   "execution_count": 6,
   "metadata": {
    "collapsed": false
   },
   "outputs": [],
   "source": [
    "cols = ['Classifier','stageType','featureType','height','width','boostType','minHitRate', 'maxFalseAlarm','weightTrimRate','maxDepth','maxWeakCount','maxCatCount','featSize','mode','stageNum']\n"
   ]
  },
  {
   "cell_type": "code",
   "execution_count": 7,
   "metadata": {
    "collapsed": false
   },
   "outputs": [],
   "source": [
    "test = parameters[cols]"
   ]
  },
  {
   "cell_type": "code",
   "execution_count": 8,
   "metadata": {
    "collapsed": false
   },
   "outputs": [
    {
     "data": {
      "text/html": [
       "<div style=\"max-height:1000px;max-width:1500px;overflow:auto;\">\n",
       "<table border=\"1\" class=\"dataframe\">\n",
       "  <thead>\n",
       "    <tr style=\"text-align: right;\">\n",
       "      <th></th>\n",
       "      <th>Classifier</th>\n",
       "      <th>stageType</th>\n",
       "      <th>featureType</th>\n",
       "      <th>height</th>\n",
       "      <th>width</th>\n",
       "      <th>boostType</th>\n",
       "      <th>minHitRate</th>\n",
       "      <th>maxFalseAlarm</th>\n",
       "      <th>weightTrimRate</th>\n",
       "      <th>maxDepth</th>\n",
       "      <th>maxWeakCount</th>\n",
       "      <th>maxCatCount</th>\n",
       "      <th>featSize</th>\n",
       "      <th>mode</th>\n",
       "      <th>stageNum</th>\n",
       "    </tr>\n",
       "  </thead>\n",
       "  <tbody>\n",
       "    <tr>\n",
       "      <th>0</th>\n",
       "      <td>         cascade_1.xml</td>\n",
       "      <td> BOOST</td>\n",
       "      <td>  LBP</td>\n",
       "      <td> 40</td>\n",
       "      <td> 40</td>\n",
       "      <td> GAB</td>\n",
       "      <td> 9.9900001287460327e-01</td>\n",
       "      <td> 5.0000000000000000e-01</td>\n",
       "      <td> 9.4999999999999996e-01</td>\n",
       "      <td> 1</td>\n",
       "      <td> 100</td>\n",
       "      <td> 256</td>\n",
       "      <td> 1</td>\n",
       "      <td> NaN</td>\n",
       "      <td> 12</td>\n",
       "    </tr>\n",
       "    <tr>\n",
       "      <th>1</th>\n",
       "      <td>  whale_classifier.xml</td>\n",
       "      <td> BOOST</td>\n",
       "      <td> HAAR</td>\n",
       "      <td> 24</td>\n",
       "      <td> 24</td>\n",
       "      <td> GAB</td>\n",
       "      <td> 9.9500000476837158e-01</td>\n",
       "      <td> 5.0000000000000000e-01</td>\n",
       "      <td> 9.4999999999999996e-01</td>\n",
       "      <td> 1</td>\n",
       "      <td> 100</td>\n",
       "      <td>   0</td>\n",
       "      <td> 1</td>\n",
       "      <td> ALL</td>\n",
       "      <td>  4</td>\n",
       "    </tr>\n",
       "    <tr>\n",
       "      <th>2</th>\n",
       "      <td>         cascade_2.xml</td>\n",
       "      <td> BOOST</td>\n",
       "      <td>  LBP</td>\n",
       "      <td> 30</td>\n",
       "      <td> 30</td>\n",
       "      <td> GAB</td>\n",
       "      <td> 9.9500000476837158e-01</td>\n",
       "      <td> 5.0000000000000000e-01</td>\n",
       "      <td> 9.4999999999999996e-01</td>\n",
       "      <td> 1</td>\n",
       "      <td> 100</td>\n",
       "      <td> 256</td>\n",
       "      <td> 1</td>\n",
       "      <td> NaN</td>\n",
       "      <td> 12</td>\n",
       "    </tr>\n",
       "    <tr>\n",
       "      <th>3</th>\n",
       "      <td> whale_classifier2.xml</td>\n",
       "      <td> BOOST</td>\n",
       "      <td>  LBP</td>\n",
       "      <td> 24</td>\n",
       "      <td> 24</td>\n",
       "      <td> GAB</td>\n",
       "      <td> 9.9500000476837158e-01</td>\n",
       "      <td> 5.0000000000000000e-01</td>\n",
       "      <td> 9.4999999999999996e-01</td>\n",
       "      <td> 1</td>\n",
       "      <td> 100</td>\n",
       "      <td> 256</td>\n",
       "      <td> 1</td>\n",
       "      <td> NaN</td>\n",
       "      <td> 20</td>\n",
       "    </tr>\n",
       "  </tbody>\n",
       "</table>\n",
       "<p>4 rows × 15 columns</p>\n",
       "</div>"
      ],
      "text/plain": [
       "              Classifier stageType featureType height width boostType  \\\n",
       "0          cascade_1.xml     BOOST         LBP     40    40       GAB   \n",
       "1   whale_classifier.xml     BOOST        HAAR     24    24       GAB   \n",
       "2          cascade_2.xml     BOOST         LBP     30    30       GAB   \n",
       "3  whale_classifier2.xml     BOOST         LBP     24    24       GAB   \n",
       "\n",
       "               minHitRate           maxFalseAlarm          weightTrimRate  \\\n",
       "0  9.9900001287460327e-01  5.0000000000000000e-01  9.4999999999999996e-01   \n",
       "1  9.9500000476837158e-01  5.0000000000000000e-01  9.4999999999999996e-01   \n",
       "2  9.9500000476837158e-01  5.0000000000000000e-01  9.4999999999999996e-01   \n",
       "3  9.9500000476837158e-01  5.0000000000000000e-01  9.4999999999999996e-01   \n",
       "\n",
       "  maxDepth maxWeakCount maxCatCount featSize mode stageNum  \n",
       "0        1          100         256        1  NaN       12  \n",
       "1        1          100           0        1  ALL        4  \n",
       "2        1          100         256        1  NaN       12  \n",
       "3        1          100         256        1  NaN       20  \n",
       "\n",
       "[4 rows x 15 columns]"
      ]
     },
     "execution_count": 8,
     "metadata": {},
     "output_type": "execute_result"
    }
   ],
   "source": [
    "test"
   ]
  },
  {
   "cell_type": "code",
   "execution_count": 9,
   "metadata": {
    "collapsed": false
   },
   "outputs": [
    {
     "ename": "NameError",
     "evalue": "name 'root' is not defined",
     "output_type": "error",
     "traceback": [
      "\u001b[1;31m---------------------------------------------------------------------------\u001b[0m",
      "\u001b[1;31mNameError\u001b[0m                                 Traceback (most recent call last)",
      "\u001b[1;32m<ipython-input-9-0b57e4708056>\u001b[0m in \u001b[0;36m<module>\u001b[1;34m()\u001b[0m\n\u001b[0;32m      1\u001b[0m \u001b[0mtest_dict\u001b[0m \u001b[1;33m=\u001b[0m \u001b[1;33m{\u001b[0m\u001b[1;33m}\u001b[0m\u001b[1;33m\u001b[0m\u001b[0m\n\u001b[1;32m----> 2\u001b[1;33m \u001b[1;32mfor\u001b[0m \u001b[0mchild\u001b[0m \u001b[1;32min\u001b[0m \u001b[0mroot\u001b[0m\u001b[1;33m:\u001b[0m\u001b[1;33m\u001b[0m\u001b[0m\n\u001b[0m\u001b[0;32m      3\u001b[0m     \u001b[1;32mfor\u001b[0m \u001b[0mx\u001b[0m \u001b[1;32min\u001b[0m \u001b[0mchild\u001b[0m\u001b[1;33m:\u001b[0m\u001b[1;33m\u001b[0m\u001b[0m\n\u001b[0;32m      4\u001b[0m         \u001b[1;32mif\u001b[0m \u001b[1;34m'   '\u001b[0m \u001b[1;32mnot\u001b[0m \u001b[1;32min\u001b[0m \u001b[0mx\u001b[0m\u001b[1;33m.\u001b[0m\u001b[0mtext\u001b[0m\u001b[1;33m:\u001b[0m\u001b[1;33m\u001b[0m\u001b[0m\n\u001b[0;32m      5\u001b[0m             \u001b[0mtest_dict\u001b[0m\u001b[1;33m[\u001b[0m\u001b[0mx\u001b[0m\u001b[1;33m.\u001b[0m\u001b[0mtag\u001b[0m\u001b[1;33m]\u001b[0m \u001b[1;33m=\u001b[0m \u001b[0mx\u001b[0m\u001b[1;33m.\u001b[0m\u001b[0mtext\u001b[0m\u001b[1;33m\u001b[0m\u001b[0m\n",
      "\u001b[1;31mNameError\u001b[0m: name 'root' is not defined"
     ]
    }
   ],
   "source": [
    "test_dict = {}\n",
    "for child in root:\n",
    "    for x in child:\n",
    "        if '   ' not in x.text:\n",
    "            test_dict[x.tag] = x.text\n",
    "        for y in x:\n",
    "            if '   ' not in y.text:\n",
    "                test_dict[y.tag] = y.text\n",
    "pprint.pprint(test_dict)\n",
    "        "
   ]
  },
  {
   "cell_type": "code",
   "execution_count": 10,
   "metadata": {
    "collapsed": false
   },
   "outputs": [
    {
     "data": {
      "text/plain": [
       "{}"
      ]
     },
     "execution_count": 10,
     "metadata": {},
     "output_type": "execute_result"
    }
   ],
   "source": [
    "test_dict"
   ]
  },
  {
   "cell_type": "code",
   "execution_count": 11,
   "metadata": {
    "collapsed": false
   },
   "outputs": [
    {
     "name": "stdout",
     "output_type": "stream",
     "text": [
      "cascade_1.xml  get_parameters.ipynb   whale_classifier.xml\r\n",
      "cascade_2.xml  whale_classifier2.xml\r\n"
     ]
    }
   ],
   "source": [
    "ls"
   ]
  },
  {
   "cell_type": "code",
   "execution_count": 12,
   "metadata": {
    "collapsed": false
   },
   "outputs": [
    {
     "ename": "TypeError",
     "evalue": "listdir() takes exactly 1 argument (0 given)",
     "output_type": "error",
     "traceback": [
      "\u001b[1;31m---------------------------------------------------------------------------\u001b[0m",
      "\u001b[1;31mTypeError\u001b[0m                                 Traceback (most recent call last)",
      "\u001b[1;32m<ipython-input-12-eff7f7465dbc>\u001b[0m in \u001b[0;36m<module>\u001b[1;34m()\u001b[0m\n\u001b[1;32m----> 1\u001b[1;33m \u001b[0mos\u001b[0m\u001b[1;33m.\u001b[0m\u001b[0mlistdir\u001b[0m\u001b[1;33m(\u001b[0m\u001b[1;33m)\u001b[0m\u001b[1;33m\u001b[0m\u001b[0m\n\u001b[0m",
      "\u001b[1;31mTypeError\u001b[0m: listdir() takes exactly 1 argument (0 given)"
     ]
    }
   ],
   "source": [
    "os.listdir()"
   ]
  },
  {
   "cell_type": "code",
   "execution_count": null,
   "metadata": {
    "collapsed": false
   },
   "outputs": [],
   "source": []
  },
  {
   "cell_type": "code",
   "execution_count": null,
   "metadata": {
    "collapsed": true
   },
   "outputs": [],
   "source": []
  }
 ],
 "metadata": {
  "kernelspec": {
   "display_name": "Python 2",
   "language": "python",
   "name": "python2"
  },
  "language_info": {
   "codemirror_mode": {
    "name": "ipython",
    "version": 2
   },
   "file_extension": ".py",
   "mimetype": "text/x-python",
   "name": "python",
   "nbconvert_exporter": "python",
   "pygments_lexer": "ipython2",
   "version": "2.7.6"
  }
 },
 "nbformat": 4,
 "nbformat_minor": 0
}
